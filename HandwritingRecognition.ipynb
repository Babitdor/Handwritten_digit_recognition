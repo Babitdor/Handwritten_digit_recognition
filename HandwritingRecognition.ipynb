{
 "cells": [
  {
   "cell_type": "code",
   "execution_count": 88,
   "id": "efdcbbf1",
   "metadata": {},
   "outputs": [],
   "source": [
    "import tensorflow as tf\n",
    "import matplotlib.pyplot as plt\n",
    "from keras.utils import np_utils"
   ]
  },
  {
   "cell_type": "code",
   "execution_count": 89,
   "id": "597f9e28",
   "metadata": {},
   "outputs": [
    {
     "data": {
      "text/plain": [
       "(60000, 28, 28)"
      ]
     },
     "execution_count": 89,
     "metadata": {},
     "output_type": "execute_result"
    }
   ],
   "source": [
    "# Loading MNIST Dataset\n",
    "\n",
    "(x_train,y_train),(x_test,y_test) = tf.keras.datasets.mnist.load_data()\n",
    "x_train.shape"
   ]
  },
  {
   "cell_type": "code",
   "execution_count": 90,
   "id": "65e7c1f7",
   "metadata": {},
   "outputs": [
    {
     "data": {
      "image/png": "[encoded data removed]",
      "text/plain": [
       "<Figure size 432x288 with 1 Axes>"
      ]
     },
     "metadata": {
      "needs_background": "light"
     },
     "output_type": "display_data"
    },
    {
     "data": {
      "text/plain": [
       "<matplotlib.image.AxesImage at 0x1a148250af0>"
      ]
     },
     "execution_count": 90,
     "metadata": {},
     "output_type": "execute_result"
    },
    {
     "data": {
      "image/png": "[encoded data removed]",
      "text/plain": [
       "<Figure size 432x288 with 1 Axes>"
      ]
     },
     "metadata": {
      "needs_background": "light"
     },
     "output_type": "display_data"
    }
   ],
   "source": [
    "plt.imshow(x_train[0])\n",
    "plt.show()\n",
    "plt.imshow(x_train[0], cmap = plt.cm.binary)"
   ]
  },
  {
   "cell_type": "markdown",
   "id": "a39c1748",
   "metadata": {},
   "source": [
    "# Resizing Image"
   ]
  },
  {
   "cell_type": "code",
   "execution_count": 91,
   "id": "5b751622",
   "metadata": {},
   "outputs": [
    {
     "data": {
      "text/plain": [
       "(60000, 28, 28, 1)"
      ]
     },
     "execution_count": 91,
     "metadata": {},
     "output_type": "execute_result"
    }
   ],
   "source": [
    "import numpy as np\n",
    "# Resizing Image to make it situable for Convolution Operation  \n",
    "x_train = x_train / 255\n",
    "x_test = x_test / 255\n",
    "\n",
    "x_train = x_train.reshape(-1,28,28,1)\n",
    "x_test = x_test.reshape(-1,28,28,1)\n",
    "\n",
    "x_train.shape"
   ]
  },
  {
   "cell_type": "code",
   "execution_count": 92,
   "id": "55b8547a",
   "metadata": {},
   "outputs": [],
   "source": [
    "from tensorflow.keras.models import Sequential\n",
    "from tensorflow.keras.layers import Dense, MaxPooling2D,Conv2D, Flatten"
   ]
  },
  {
   "cell_type": "code",
   "execution_count": 93,
   "id": "2b25dd61",
   "metadata": {},
   "outputs": [
    {
     "name": "stdout",
     "output_type": "stream",
     "text": [
      "Model: \"sequential_11\"\n",
      "_________________________________________________________________\n",
      "Layer (type)                 Output Shape              Param #   \n",
      "=================================================================\n",
      "conv2d_26 (Conv2D)           (None, 26, 26, 32)        320       \n",
      "_________________________________________________________________\n",
      "activation_47 (Activation)   (None, 26, 26, 32)        0         \n",
      "_________________________________________________________________\n",
      "conv2d_27 (Conv2D)           (None, 24, 24, 64)        18496     \n",
      "_________________________________________________________________\n",
      "activation_48 (Activation)   (None, 24, 24, 64)        0         \n",
      "_________________________________________________________________\n",
      "max_pooling2d_19 (MaxPooling (None, 12, 12, 64)        0         \n",
      "_________________________________________________________________\n",
      "conv2d_28 (Conv2D)           (None, 10, 10, 64)        36928     \n",
      "_________________________________________________________________\n",
      "activation_49 (Activation)   (None, 10, 10, 64)        0         \n",
      "_________________________________________________________________\n",
      "max_pooling2d_20 (MaxPooling (None, 5, 5, 64)          0         \n",
      "_________________________________________________________________\n",
      "flatten_15 (Flatten)         (None, 1600)              0         \n",
      "_________________________________________________________________\n",
      "dense_21 (Dense)             (None, 64)                102464    \n",
      "_________________________________________________________________\n",
      "activation_50 (Activation)   (None, 64)                0         \n",
      "_________________________________________________________________\n",
      "dense_22 (Dense)             (None, 10)                650       \n",
      "_________________________________________________________________\n",
      "activation_51 (Activation)   (None, 10)                0         \n",
      "=================================================================\n",
      "Total params: 158,858\n",
      "Trainable params: 158,858\n",
      "Non-trainable params: 0\n",
      "_________________________________________________________________\n"
     ]
    }
   ],
   "source": [
    "#Create Model\n",
    "model = Sequential()\n",
    "\n",
    "model.add(Conv2D(32,(3,3),input_shape = (28,28,1)))\n",
    "model.add(Activation(\"relu\"))\n",
    "\n",
    "\n",
    "model.add(Conv2D(64,(3,3)))\n",
    "model.add(Activation(\"relu\"))\n",
    "model.add(MaxPooling2D(pool_size = (2,2))),\n",
    "model.add(Conv2D(64,(3,3)))\n",
    "model.add(Activation(\"relu\"))\n",
    "model.add(MaxPooling2D(pool_size = (2,2))),\n",
    "\n",
    "model.add(Flatten()),\n",
    "\n",
    "model.add(Dense(64)),\n",
    "model.add(Activation(\"relu\")),\n",
    "\n",
    "model.add(Dense(10)),\n",
    "model.add(Activation(\"softmax\"))\n",
    "\n",
    "model.summary()"
   ]
  },
  {
   "cell_type": "code",
   "execution_count": 94,
   "id": "e7d69e04",
   "metadata": {},
   "outputs": [],
   "source": [
    "# Training the Data\n",
    "\n",
    "model.compile(loss = \"sparse_categorical_crossentropy\", optimizer=\"adam\", metrics = ['accuracy'])"
   ]
  },
  {
   "cell_type": "code",
   "execution_count": 95,
   "id": "2abd2551",
   "metadata": {},
   "outputs": [
    {
     "name": "stdout",
     "output_type": "stream",
     "text": [
      "Epoch 1/20\n",
      "1313/1313 [==============================] - 39s 30ms/step - loss: 0.1447 - accuracy: 0.9551 - val_loss: 0.0614 - val_accuracy: 0.9818\n",
      "Epoch 2/20\n",
      "1313/1313 [==============================] - 39s 29ms/step - loss: 0.0461 - accuracy: 0.9853 - val_loss: 0.0436 - val_accuracy: 0.9874\n",
      "Epoch 3/20\n",
      "1313/1313 [==============================] - 40s 30ms/step - loss: 0.0300 - accuracy: 0.9906 - val_loss: 0.0640 - val_accuracy: 0.9818\n",
      "Epoch 4/20\n",
      "1313/1313 [==============================] - 41s 31ms/step - loss: 0.0239 - accuracy: 0.9920 - val_loss: 0.0416 - val_accuracy: 0.9876\n",
      "Epoch 5/20\n",
      "1313/1313 [==============================] - 43s 33ms/step - loss: 0.0191 - accuracy: 0.9936 - val_loss: 0.0481 - val_accuracy: 0.9868\n",
      "Epoch 6/20\n",
      "1313/1313 [==============================] - 41s 31ms/step - loss: 0.0132 - accuracy: 0.9956 - val_loss: 0.0430 - val_accuracy: 0.9889\n",
      "Epoch 7/20\n",
      "1313/1313 [==============================] - 39s 30ms/step - loss: 0.0129 - accuracy: 0.9954 - val_loss: 0.0430 - val_accuracy: 0.9907\n",
      "Epoch 8/20\n",
      "1313/1313 [==============================] - 43s 33ms/step - loss: 0.0097 - accuracy: 0.9969 - val_loss: 0.0656 - val_accuracy: 0.9842\n",
      "Epoch 9/20\n",
      "1313/1313 [==============================] - 44s 34ms/step - loss: 0.0086 - accuracy: 0.9973 - val_loss: 0.0408 - val_accuracy: 0.9897\n",
      "Epoch 10/20\n",
      "1313/1313 [==============================] - 42s 32ms/step - loss: 0.0073 - accuracy: 0.9975 - val_loss: 0.0672 - val_accuracy: 0.9853\n",
      "Epoch 11/20\n",
      "1313/1313 [==============================] - 44s 33ms/step - loss: 0.0071 - accuracy: 0.9979 - val_loss: 0.0574 - val_accuracy: 0.9889\n",
      "Epoch 12/20\n",
      "1313/1313 [==============================] - 45s 34ms/step - loss: 0.0075 - accuracy: 0.9974 - val_loss: 0.0542 - val_accuracy: 0.9900\n",
      "Epoch 13/20\n",
      "1313/1313 [==============================] - 42s 32ms/step - loss: 0.0056 - accuracy: 0.9982 - val_loss: 0.0601 - val_accuracy: 0.9906\n",
      "Epoch 14/20\n",
      "1313/1313 [==============================] - 37s 28ms/step - loss: 0.0063 - accuracy: 0.9980 - val_loss: 0.0723 - val_accuracy: 0.9879\n",
      "Epoch 15/20\n",
      "1313/1313 [==============================] - 37s 29ms/step - loss: 0.0056 - accuracy: 0.9981 - val_loss: 0.0530 - val_accuracy: 0.9892\n",
      "Epoch 16/20\n",
      "1313/1313 [==============================] - 37s 28ms/step - loss: 0.0050 - accuracy: 0.9984 - val_loss: 0.0508 - val_accuracy: 0.9902\n",
      "Epoch 17/20\n",
      "1313/1313 [==============================] - 37s 29ms/step - loss: 0.0048 - accuracy: 0.9985 - val_loss: 0.0442 - val_accuracy: 0.9908\n",
      "Epoch 18/20\n",
      "1313/1313 [==============================] - 37s 29ms/step - loss: 0.0041 - accuracy: 0.9987 - val_loss: 0.0669 - val_accuracy: 0.9899\n",
      "Epoch 19/20\n",
      "1313/1313 [==============================] - 37s 28ms/step - loss: 0.0028 - accuracy: 0.9993 - val_loss: 0.0595 - val_accuracy: 0.9913\n",
      "Epoch 20/20\n",
      "1313/1313 [==============================] - 38s 29ms/step - loss: 0.0057 - accuracy: 0.9981 - val_loss: 0.0586 - val_accuracy: 0.9897\n"
     ]
    },
    {
     "data": {
      "text/plain": [
       "<keras.callbacks.History at 0x1a146a1fb20>"
      ]
     },
     "execution_count": 95,
     "metadata": {},
     "output_type": "execute_result"
    }
   ],
   "source": [
    "model.fit(x_train,y_train,epochs=20, validation_split=0.3,verbose=1)"
   ]
  },
  {
   "cell_type": "code",
   "execution_count": 96,
   "id": "9f28460b",
   "metadata": {},
   "outputs": [],
   "source": [
    "test_loss , test_accuracy = model.evaluate(x_test,y_test,verbose=0)"
   ]
  },
  {
   "cell_type": "code",
   "execution_count": 109,
   "id": "b2ad4804",
   "metadata": {},
   "outputs": [
    {
     "name": "stdout",
     "output_type": "stream",
     "text": [
      "Acurracy 99.23999905586243\n"
     ]
    }
   ],
   "source": [
    "print(\"Acurracy\",test_accuracy*100)"
   ]
  }
 ],
 "metadata": {
  "kernelspec": {
   "display_name": "Python 3",
   "language": "python",
   "name": "python3"
  },
  "language_info": {
   "codemirror_mode": {
    "name": "ipython",
    "version": 3
   },
   "file_extension": ".py",
   "mimetype": "text/x-python",
   "name": "python",
   "nbconvert_exporter": "python",
   "pygments_lexer": "ipython3",
   "version": "3.8.8"
  }
 },
 "nbformat": 4,
 "nbformat_minor": 5
}
