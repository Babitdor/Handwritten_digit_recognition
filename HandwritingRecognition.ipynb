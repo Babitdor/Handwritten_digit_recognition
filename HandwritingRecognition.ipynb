{
  "cells": [
    {
      "cell_type": "markdown",
      "metadata": {
        "id": "view-in-github",
        "colab_type": "text"
      },
      "source": [
        "<a href=\"https://colab.research.google.com/github/Babitdor/Handwritten_digit_recognition/blob/main/HandwritingRecognition.ipynb\" target=\"_parent\"><img src=\"https://colab.research.google.com/assets/colab-badge.svg\" alt=\"Open In Colab\"/></a>"
      ]
    },
    {
      "cell_type": "code",
      "execution_count": null,
      "id": "efdcbbf1",
      "metadata": {
        "id": "efdcbbf1"
      },
      "outputs": [],
      "source": [
        "import tensorflow as tf\n",
        "import matplotlib.pyplot as plt\n",
        "import numpy as np\n",
        "from keras.datasets import mnist\n",
        "from keras.models import Sequential\n",
        "from keras.layers import Dense, Activation, MaxPooling2D, Conv2D, Flatten\n",
        "from keras.preprocessing.image import ImageDataGenerator"
      ]
    },
    {
      "cell_type": "code",
      "execution_count": null,
      "id": "597f9e28",
      "metadata": {
        "id": "597f9e28"
      },
      "outputs": [],
      "source": [
        "# Loading MNIST Dataset\n",
        "(x_train,y_train),(x_test,y_test) = mnist.load_data()\n",
        "Height = x_train.shape[1]\n",
        "Width = x_train.shape[2]"
      ]
    },
    {
      "cell_type": "markdown",
      "id": "a39c1748",
      "metadata": {
        "id": "a39c1748"
      },
      "source": [
        "# Resizing Image"
      ]
    },
    {
      "cell_type": "code",
      "execution_count": null,
      "id": "5b751622",
      "metadata": {
        "colab": {
          "base_uri": "https://localhost:8080/"
        },
        "id": "5b751622",
        "outputId": "7787cfc5-e2fb-4894-a6ac-f7008645c6b0"
      },
      "outputs": [
        {
          "output_type": "execute_result",
          "data": {
            "text/plain": [
              "(60000, 28, 28, 1)"
            ]
          },
          "metadata": {},
          "execution_count": 4
        }
      ],
      "source": [
        "# Resizing Image to make it situable for Convolution Operation  '\n",
        "x_train = np.expand_dims(x_train, -1)\n",
        "x_test = np.expand_dims(x_test, -1)\n",
        "x_train.shape"
      ]
    },
    {
      "cell_type": "code",
      "execution_count": 20,
      "id": "2b25dd61",
      "metadata": {
        "colab": {
          "base_uri": "https://localhost:8080/"
        },
        "id": "2b25dd61",
        "outputId": "614265e0-3835-486c-96e0-dbffa42dec4a"
      },
      "outputs": [
        {
          "output_type": "stream",
          "name": "stdout",
          "text": [
            "Model: \"sequential_2\"\n",
            "_________________________________________________________________\n",
            " Layer (type)                Output Shape              Param #   \n",
            "=================================================================\n",
            " conv2d_6 (Conv2D)           (None, 26, 26, 32)        320       \n",
            "                                                                 \n",
            " max_pooling2d_6 (MaxPoolin  (None, 13, 13, 32)        0         \n",
            " g2D)                                                            \n",
            "                                                                 \n",
            " conv2d_7 (Conv2D)           (None, 11, 11, 64)        18496     \n",
            "                                                                 \n",
            " max_pooling2d_7 (MaxPoolin  (None, 5, 5, 64)          0         \n",
            " g2D)                                                            \n",
            "                                                                 \n",
            " conv2d_8 (Conv2D)           (None, 3, 3, 32)          18464     \n",
            "                                                                 \n",
            " max_pooling2d_8 (MaxPoolin  (None, 1, 1, 32)          0         \n",
            " g2D)                                                            \n",
            "                                                                 \n",
            " flatten_2 (Flatten)         (None, 32)                0         \n",
            "                                                                 \n",
            " dense_4 (Dense)             (None, 64)                2112      \n",
            "                                                                 \n",
            " dense_5 (Dense)             (None, 10)                650       \n",
            "                                                                 \n",
            "=================================================================\n",
            "Total params: 40042 (156.41 KB)\n",
            "Trainable params: 40042 (156.41 KB)\n",
            "Non-trainable params: 0 (0.00 Byte)\n",
            "_________________________________________________________________\n"
          ]
        }
      ],
      "source": [
        "#Create Model\n",
        "model = Sequential()\n",
        "\n",
        "model.add(Conv2D(32, 3, activation='relu', input_shape = (Height,Width,1)))\n",
        "model.add(MaxPooling2D(2,2))\n",
        "\n",
        "model.add(Conv2D(64, 3, activation='relu'))\n",
        "model.add(MaxPooling2D(2,2))\n",
        "\n",
        "model.add(Conv2D(32, 3, activation='relu'))\n",
        "model.add(MaxPooling2D(2,2))\n",
        "\n",
        "model.add(Flatten())\n",
        "\n",
        "model.add(Dense(64, activation = 'relu'))\n",
        "\n",
        "model.add(Dense(10, activation = 'softmax'))\n",
        "\n",
        "model.summary()"
      ]
    },
    {
      "cell_type": "code",
      "execution_count": 21,
      "id": "e7d69e04",
      "metadata": {
        "id": "e7d69e04"
      },
      "outputs": [],
      "source": [
        "# Training the Data\n",
        "model.compile(loss = \"sparse_categorical_crossentropy\", optimizer=\"adam\", metrics = ['accuracy'])"
      ]
    },
    {
      "cell_type": "code",
      "execution_count": 22,
      "id": "2abd2551",
      "metadata": {
        "colab": {
          "base_uri": "https://localhost:8080/"
        },
        "id": "2abd2551",
        "outputId": "22a7e663-ad34-46f8-faba-48f2f69da95e"
      },
      "outputs": [
        {
          "output_type": "stream",
          "name": "stdout",
          "text": [
            "Epoch 1/15\n",
            "1313/1313 [==============================] - 42s 31ms/step - loss: 0.3769 - accuracy: 0.9025 - val_loss: 0.1556 - val_accuracy: 0.9529\n",
            "Epoch 2/15\n",
            "1313/1313 [==============================] - 46s 35ms/step - loss: 0.1147 - accuracy: 0.9652 - val_loss: 0.1036 - val_accuracy: 0.9698\n",
            "Epoch 3/15\n",
            "1313/1313 [==============================] - 41s 32ms/step - loss: 0.0849 - accuracy: 0.9733 - val_loss: 0.0776 - val_accuracy: 0.9776\n",
            "Epoch 4/15\n",
            "1313/1313 [==============================] - 40s 31ms/step - loss: 0.0725 - accuracy: 0.9775 - val_loss: 0.0992 - val_accuracy: 0.9714\n",
            "Epoch 5/15\n",
            "1313/1313 [==============================] - 40s 30ms/step - loss: 0.0618 - accuracy: 0.9805 - val_loss: 0.0944 - val_accuracy: 0.9744\n",
            "Epoch 6/15\n",
            "1313/1313 [==============================] - 41s 31ms/step - loss: 0.0520 - accuracy: 0.9839 - val_loss: 0.0811 - val_accuracy: 0.9767\n",
            "Epoch 7/15\n",
            "1313/1313 [==============================] - 40s 31ms/step - loss: 0.0494 - accuracy: 0.9848 - val_loss: 0.0830 - val_accuracy: 0.9788\n",
            "Epoch 8/15\n",
            "1313/1313 [==============================] - 40s 31ms/step - loss: 0.0423 - accuracy: 0.9872 - val_loss: 0.1060 - val_accuracy: 0.9735\n",
            "Epoch 9/15\n",
            "1313/1313 [==============================] - 45s 34ms/step - loss: 0.0378 - accuracy: 0.9881 - val_loss: 0.0774 - val_accuracy: 0.9801\n",
            "Epoch 10/15\n",
            "1313/1313 [==============================] - 40s 30ms/step - loss: 0.0365 - accuracy: 0.9889 - val_loss: 0.0751 - val_accuracy: 0.9816\n",
            "Epoch 11/15\n",
            "1313/1313 [==============================] - 45s 34ms/step - loss: 0.0324 - accuracy: 0.9893 - val_loss: 0.0958 - val_accuracy: 0.9769\n",
            "Epoch 12/15\n",
            "1313/1313 [==============================] - 41s 31ms/step - loss: 0.0280 - accuracy: 0.9908 - val_loss: 0.1056 - val_accuracy: 0.9771\n",
            "Epoch 13/15\n",
            "1313/1313 [==============================] - 42s 32ms/step - loss: 0.0271 - accuracy: 0.9917 - val_loss: 0.0804 - val_accuracy: 0.9828\n",
            "Epoch 14/15\n",
            "1313/1313 [==============================] - 41s 32ms/step - loss: 0.0238 - accuracy: 0.9922 - val_loss: 0.0883 - val_accuracy: 0.9810\n",
            "Epoch 15/15\n",
            "1313/1313 [==============================] - 41s 32ms/step - loss: 0.0220 - accuracy: 0.9930 - val_loss: 0.0895 - val_accuracy: 0.9804\n"
          ]
        },
        {
          "output_type": "execute_result",
          "data": {
            "text/plain": [
              "<keras.src.callbacks.History at 0x7c52a640d7b0>"
            ]
          },
          "metadata": {},
          "execution_count": 22
        }
      ],
      "source": [
        "model.fit(x_train,y_train,epochs=15, validation_split=0.3,verbose=1)"
      ]
    },
    {
      "cell_type": "code",
      "execution_count": 26,
      "id": "9f28460b",
      "metadata": {
        "id": "9f28460b"
      },
      "outputs": [],
      "source": [
        "test_loss , test_accuracy = model.evaluate(x_test,y_test,verbose=0)"
      ]
    },
    {
      "cell_type": "code",
      "execution_count": 27,
      "id": "b2ad4804",
      "metadata": {
        "colab": {
          "base_uri": "https://localhost:8080/"
        },
        "id": "b2ad4804",
        "outputId": "e2004ea7-be36-414e-fc70-ac168afb1549"
      },
      "outputs": [
        {
          "output_type": "stream",
          "name": "stdout",
          "text": [
            "Acurracy 98.24000000953674\n"
          ]
        }
      ],
      "source": [
        "print(\"Acurracy\",test_accuracy*100)"
      ]
    },
    {
      "cell_type": "code",
      "source": [
        "model.save('Handwritten.h5')"
      ],
      "metadata": {
        "colab": {
          "base_uri": "https://localhost:8080/"
        },
        "id": "p6BWdUutPWn4",
        "outputId": "44011200-9231-4a8f-e4aa-9a296cf8b24f"
      },
      "id": "p6BWdUutPWn4",
      "execution_count": 19,
      "outputs": [
        {
          "output_type": "stream",
          "name": "stderr",
          "text": [
            "/usr/local/lib/python3.10/dist-packages/keras/src/engine/training.py:3103: UserWarning: You are saving your model as an HDF5 file via `model.save()`. This file format is considered legacy. We recommend using instead the native Keras format, e.g. `model.save('my_model.keras')`.\n",
            "  saving_api.save_model(\n"
          ]
        }
      ]
    }
  ],
  "metadata": {
    "kernelspec": {
      "display_name": "Python 3",
      "language": "python",
      "name": "python3"
    },
    "language_info": {
      "codemirror_mode": {
        "name": "ipython",
        "version": 3
      },
      "file_extension": ".py",
      "mimetype": "text/x-python",
      "name": "python",
      "nbconvert_exporter": "python",
      "pygments_lexer": "ipython3",
      "version": "3.8.8"
    },
    "colab": {
      "provenance": [],
      "include_colab_link": true
    }
  },
  "nbformat": 4,
  "nbformat_minor": 5
}